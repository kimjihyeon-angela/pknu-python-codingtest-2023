{
 "cells": [
  {
   "attachments": {},
   "cell_type": "markdown",
   "metadata": {},
   "source": [
    "### 선택정렬"
   ]
  },
  {
   "attachments": {},
   "cell_type": "markdown",
   "metadata": {},
   "source": [
    "#### 최소값 위치 확인 함수"
   ]
  },
  {
   "cell_type": "code",
   "execution_count": 1,
   "metadata": {},
   "outputs": [],
   "source": [
    "def findMinIdx(ary): \n",
    "    minIdx = 0     \n",
    "    for i in range(1, len(ary)):\n",
    "        if ary[minIdx] > ary[i]:  # 지정된 값이 배열에 현재값보다 크면 \n",
    "            minIdx = i\n",
    "    \n",
    "    return minIdx"
   ]
  },
  {
   "cell_type": "code",
   "execution_count": 4,
   "metadata": {},
   "outputs": [
    {
     "name": "stdout",
     "output_type": "stream",
     "text": [
      "4\n"
     ]
    }
   ],
   "source": [
    "tests = [55, 88, 33, 77, 10]\n",
    "\n",
    "print(findMinIdx(tests))"
   ]
  },
  {
   "attachments": {},
   "cell_type": "markdown",
   "metadata": {},
   "source": [
    "#### 선택정렬 전체"
   ]
  },
  {
   "cell_type": "code",
   "execution_count": 8,
   "metadata": {},
   "outputs": [
    {
     "name": "stdout",
     "output_type": "stream",
     "text": [
      "정렬 전 --> [188, 162, 168, 120, 50, 150, 177, 105]\n",
      "정렬 후 --> [50, 105, 120, 150, 162, 168, 177, 188]\n"
     ]
    }
   ],
   "source": [
    "# 변수 선언\n",
    "before = [188, 162, 168, 120, 50, 150, 177, 105]\n",
    "after = []\n",
    "\n",
    "print('정렬 전 -->', before)\n",
    "for _ in range(len(before)):\n",
    "    minPos = findMinIdx(before)\n",
    "    after.append(before[minPos])\n",
    "    del(before[minPos])     # 최소값 삭제\n",
    "print('정렬 후 -->', after)"
   ]
  },
  {
   "attachments": {},
   "cell_type": "markdown",
   "metadata": {},
   "source": [
    "### 리스트 정렬"
   ]
  },
  {
   "cell_type": "code",
   "execution_count": 1,
   "metadata": {},
   "outputs": [],
   "source": [
    "import random\n",
    "\n",
    "dataBank = []\n",
    "for i in range(0, 1000):\n",
    "    dataBank.append(random.randint(0, 10000))"
   ]
  },
  {
   "cell_type": "code",
   "execution_count": 3,
   "metadata": {},
   "outputs": [],
   "source": [
    "dataBank.sort()             # 오름차순 정렬\n",
    "dataBank.sort(reverse=True) # 내림차순 정렬"
   ]
  },
  {
   "cell_type": "code",
   "execution_count": null,
   "metadata": {},
   "outputs": [],
   "source": [
    "dataBank"
   ]
  },
  {
   "cell_type": "code",
   "execution_count": 6,
   "metadata": {},
   "outputs": [],
   "source": [
    "values = sorted(dataBank, reverse=False)"
   ]
  },
  {
   "cell_type": "code",
   "execution_count": null,
   "metadata": {},
   "outputs": [],
   "source": [
    "values"
   ]
  },
  {
   "attachments": {},
   "cell_type": "markdown",
   "metadata": {},
   "source": [
    "#### 개선된 선택정렬\n",
    "\n",
    "배열을 두개 만들 필요 x\n",
    "값 교환 swap 기능 학습"
   ]
  },
  {
   "cell_type": "code",
   "execution_count": 5,
   "metadata": {},
   "outputs": [
    {
     "name": "stdout",
     "output_type": "stream",
     "text": [
      "정렬 전 --> [188, 162, 168, 120, 50, 150, 177, 105]\n",
      "사이클 --> [188, 162, 168, 120, 50, 150, 177, 105]\n",
      "사이클 --> [50, 162, 168, 120, 188, 150, 177, 105]\n",
      "사이클 --> [50, 105, 168, 120, 188, 150, 177, 162]\n",
      "사이클 --> [50, 105, 120, 168, 188, 150, 177, 162]\n",
      "사이클 --> [50, 105, 120, 150, 188, 168, 177, 162]\n",
      "사이클 --> [50, 105, 120, 150, 162, 168, 177, 188]\n",
      "사이클 --> [50, 105, 120, 150, 162, 168, 177, 188]\n",
      "정렬 후 --> [50, 105, 120, 150, 162, 168, 177, 188]\n"
     ]
    }
   ],
   "source": [
    "def selectionSort(ary):\n",
    "    n = len(ary)\n",
    "    for i in range(0, n-1):     # 마지막 인덱스 : n-2\n",
    "        minIdx = i\n",
    "        print('사이클 -->',ary)\n",
    "        for k in range(i+1, n): # 마지막 인덱스 : n-1\n",
    "            if ary[minIdx] > ary[k]:\n",
    "                minIdx = k\n",
    "        # tmp = ary[i]\n",
    "        # ary[i] = ary[minIdx]    # 최소값으로 변경\n",
    "        # ary[minIdx] = tmp\n",
    "        ary[i], ary[minIdx] = ary[minIdx], ary[i]\n",
    "\n",
    "    return ary                  # return ary 하지 않고 dataAry = selectionSort(dataAry)를 selectionSort(dataAry) 해도 됨\n",
    "\n",
    "# 변수\n",
    "dataAry = [188, 162, 168, 120, 50, 150, 177, 105]\n",
    "\n",
    "print('정렬 전 -->', dataAry)\n",
    "dataAry = selectionSort(dataAry)\n",
    "print('정렬 후 -->', dataAry)"
   ]
  },
  {
   "attachments": {},
   "cell_type": "markdown",
   "metadata": {},
   "source": [
    "### 삽입 정렬 Insertion Sort\n",
    "\n",
    "#### 자신의 삽입 위치 찾는 함수"
   ]
  },
  {
   "cell_type": "code",
   "execution_count": 13,
   "metadata": {},
   "outputs": [],
   "source": [
    "def findInsertIdx(ary, data):\n",
    "    findIdx = -1\n",
    "    for i in range(0, len(ary)):\n",
    "        if ary[i] > data:\n",
    "            findIdx = i\n",
    "            break\n",
    "    if findIdx == -1:\n",
    "        return len(ary)\n",
    "    else:\n",
    "        return findIdx"
   ]
  },
  {
   "cell_type": "code",
   "execution_count": 15,
   "metadata": {},
   "outputs": [
    {
     "name": "stdout",
     "output_type": "stream",
     "text": [
      "50이 들어갈 위치 0\n",
      "55가 들어갈 위치 1\n"
     ]
    }
   ],
   "source": [
    "testAry = []\n",
    "print('50이 들어갈 위치', findInsertIdx(testAry, 50))\n",
    "testAry = [33, 77, 88]\n",
    "print('55가 들어갈 위치', findInsertIdx(testAry, 55))"
   ]
  },
  {
   "cell_type": "code",
   "execution_count": 16,
   "metadata": {},
   "outputs": [
    {
     "name": "stdout",
     "output_type": "stream",
     "text": [
      "정렬 전 --> [188, 162, 168, 120, 50, 150, 177, 105]\n",
      "정렬 후 --> [50, 105, 120, 150, 162, 168, 177, 188]\n",
      "원본데이터 --> [188, 162, 168, 120, 50, 150, 177, 105]\n"
     ]
    }
   ],
   "source": [
    "before = [188, 162, 168, 120, 50, 150, 177, 105]\n",
    "after = []\n",
    "\n",
    "print('정렬 전 -->', before)\n",
    "for i in range(len(before)):\n",
    "    data = before[i]\n",
    "    idx = findInsertIdx(after, data)\n",
    "    after.insert(idx, data)\n",
    "print('정렬 후 -->', after)\n",
    "print('원본데이터 -->', before)"
   ]
  },
  {
   "attachments": {},
   "cell_type": "markdown",
   "metadata": {},
   "source": [
    "### 삽입정렬 개선"
   ]
  },
  {
   "cell_type": "code",
   "execution_count": 24,
   "metadata": {},
   "outputs": [
    {
     "name": "stdout",
     "output_type": "stream",
     "text": [
      "정렬 전 --> [188, 162, 168, 120, 50, 150, 177, 105]\n",
      "사이클 --> [188, 162, 168, 120, 50, 150, 177, 105]\n",
      "사이클 --> [50, 162, 168, 120, 188, 150, 177, 105]\n",
      "사이클 --> [50, 105, 168, 120, 188, 150, 177, 162]\n",
      "사이클 --> [50, 105, 120, 168, 188, 150, 177, 162]\n",
      "사이클 --> [50, 105, 120, 150, 188, 168, 177, 162]\n",
      "사이클 --> [50, 105, 120, 150, 162, 168, 177, 188]\n",
      "사이클 --> [50, 105, 120, 150, 162, 168, 177, 188]\n",
      "정렬 후 --> [50, 105, 120, 150, 162, 168, 177, 188]\n"
     ]
    }
   ],
   "source": [
    "def insertionSort(ary):\n",
    "    n = len(ary)\n",
    "    for end in range(1, n):  # 앞의 값 하나 빼고 끝까지 반복\n",
    "        print('사이클 -->',ary)\n",
    "        for cur in range (end, 0, -1): # 반대로 반복\n",
    "            if ary[cur-1] > ary[cur]:\n",
    "                # tmp = ary[cur-1]\n",
    "                # ary[cur-1] = ary[cur]\n",
    "                # ary[cur] = tmp\n",
    "                ary[cur-1], ary[cur] = ary[cur], ary[cur-1]\n",
    "\n",
    "    return ary\n",
    "\n",
    "dataAry = [188, 162, 168, 120, 50, 150, 177, 105]\n",
    "\n",
    "print('정렬 전 -->', dataAry)\n",
    "dataAry = selectionSort(dataAry)\n",
    "print('정렬 후 -->', dataAry)"
   ]
  },
  {
   "attachments": {},
   "cell_type": "markdown",
   "metadata": {},
   "source": [
    "### 버블 정렬 (Bubble Sort)"
   ]
  },
  {
   "cell_type": "code",
   "execution_count": 20,
   "metadata": {},
   "outputs": [
    {
     "name": "stdout",
     "output_type": "stream",
     "text": [
      "정렬 전 --> [190, 162, 168, 120, 50, 150, 177, 105]\n",
      "사이클 --> [190, 162, 168, 120, 50, 150, 177, 105]\n",
      "사이클 --> [162, 168, 120, 50, 150, 177, 105, 190]\n",
      "사이클 --> [162, 120, 50, 150, 168, 105, 177, 190]\n",
      "사이클 --> [120, 50, 150, 162, 105, 168, 177, 190]\n",
      "사이클 --> [50, 120, 150, 105, 162, 168, 177, 190]\n",
      "사이클 --> [50, 120, 105, 150, 162, 168, 177, 190]\n",
      "사이클 --> [50, 105, 120, 150, 162, 168, 177, 190]\n",
      "정렬 후 --> [50, 105, 120, 150, 162, 168, 177, 190]\n"
     ]
    }
   ],
   "source": [
    "def BubbleSort(ary):\n",
    "    n = len(ary)\n",
    "    for end in range (n-1, 0, -1): # n-1번째부터 0까지 반대로 반복\n",
    "        print('사이클 -->',ary)\n",
    "        for cur in range(0, end):  # 0부터 n-2까지 반복\n",
    "            if ary[cur] > ary[cur+1]:\n",
    "                ary[cur], ary[cur+1] = ary[cur+1], ary[cur]\n",
    "    \n",
    "    return ary\n",
    "\n",
    "\n",
    "dataAry = [190, 162, 168, 120, 50, 150, 177, 105]\n",
    "\n",
    "print('정렬 전 -->', dataAry)\n",
    "dataAry = BubbleSort(dataAry)\n",
    "print('정렬 후 -->', dataAry)"
   ]
  },
  {
   "attachments": {},
   "cell_type": "markdown",
   "metadata": {},
   "source": [
    "### 퀵 정렬 (Quick Sort)"
   ]
  },
  {
   "cell_type": "code",
   "execution_count": 28,
   "metadata": {},
   "outputs": [
    {
     "name": "stdout",
     "output_type": "stream",
     "text": [
      "정렬 전 --> [190, 162, 168, 120, 50, 150, 177, 105, 120]\n",
      "정렬 후 --> [50, 105, 120, 120, 150, 162, 168, 177, 190]\n"
     ]
    }
   ],
   "source": [
    "def quickSort(ary):\n",
    "    n = len(ary)\n",
    "    if n <= 1:          # 정렬 갯수가 1개 이하면 \n",
    "        return ary      # 그냥 출력\n",
    "\n",
    "    pivot = ary[n // 2] # 중간값 기준값으로 정하기\n",
    "    leftAry, rightAry, midAry = [], [], []\n",
    "\n",
    "    for num in ary:\n",
    "        if num < pivot:\n",
    "            leftAry.append(num)\n",
    "        elif num > pivot:\n",
    "            rightAry.append(num)\n",
    "        else:\n",
    "            midAry.append(num)  # 중복 고려\n",
    "    \n",
    "    return quickSort(leftAry) + midAry + quickSort(rightAry)\n",
    "\n",
    "dataAry = [190, 162, 168, 120, 50, 150, 177, 105, 120]\n",
    "\n",
    "print('정렬 전 -->', dataAry)\n",
    "dataAry = quickSort(dataAry)\n",
    "print('정렬 후 -->', dataAry)"
   ]
  },
  {
   "cell_type": "code",
   "execution_count": null,
   "metadata": {},
   "outputs": [],
   "source": []
  }
 ],
 "metadata": {
  "kernelspec": {
   "display_name": "Python 3",
   "language": "python",
   "name": "python3"
  },
  "language_info": {
   "codemirror_mode": {
    "name": "ipython",
    "version": 3
   },
   "file_extension": ".py",
   "mimetype": "text/x-python",
   "name": "python",
   "nbconvert_exporter": "python",
   "pygments_lexer": "ipython3",
   "version": "3.11.1"
  },
  "orig_nbformat": 4,
  "vscode": {
   "interpreter": {
    "hash": "a3d8f53f1429d27b792a3789224562ddd32c1395c9a9cfbb17b3c19c3b9a493d"
   }
  }
 },
 "nbformat": 4,
 "nbformat_minor": 2
}

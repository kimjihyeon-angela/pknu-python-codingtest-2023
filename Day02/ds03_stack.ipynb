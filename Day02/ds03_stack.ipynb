{
 "cells": [
  {
   "attachments": {},
   "cell_type": "markdown",
   "metadata": {},
   "source": [
    "## 스택 기본"
   ]
  },
  {
   "cell_type": "code",
   "execution_count": 1,
   "metadata": {},
   "outputs": [
    {
     "data": {
      "text/plain": [
       "[None, None, None, None, None, None, None, None, None, None, None, None, None]"
      ]
     },
     "execution_count": 1,
     "metadata": {},
     "output_type": "execute_result"
    }
   ],
   "source": [
    "SIZE = 13\n",
    "stack = [None for _ in range(SIZE)]\n",
    "top = -1 # 초기값 바닥\n",
    "\n",
    "stack"
   ]
  },
  {
   "attachments": {},
   "cell_type": "markdown",
   "metadata": {},
   "source": [
    "### Push"
   ]
  },
  {
   "cell_type": "code",
   "execution_count": 2,
   "metadata": {},
   "outputs": [],
   "source": [
    "top += 1\n",
    "stack[top] = '커피' \n",
    "top += 1\n",
    "stack[top] = '녹차'\n",
    "top += 1\n",
    "stack[top] = '꿀물'"
   ]
  },
  {
   "cell_type": "code",
   "execution_count": 3,
   "metadata": {},
   "outputs": [
    {
     "data": {
      "text/plain": [
       "['커피', '녹차', '꿀물', None, None, None, None, None, None, None, None, None, None]"
      ]
     },
     "execution_count": 3,
     "metadata": {},
     "output_type": "execute_result"
    }
   ],
   "source": [
    "stack"
   ]
  },
  {
   "cell_type": "code",
   "execution_count": 4,
   "metadata": {},
   "outputs": [
    {
     "name": "stdout",
     "output_type": "stream",
     "text": [
      "-- 스택 상태 --\n",
      "None\n",
      "None\n",
      "None\n",
      "None\n",
      "None\n",
      "None\n",
      "None\n",
      "None\n",
      "None\n",
      "None\n",
      "꿀물\n",
      "녹차\n",
      "커피\n"
     ]
    }
   ],
   "source": [
    "print('-- 스택 상태 --')\n",
    "for i in range(len(stack)-1, -1, -1): # 스택의 마지막인덱스부터 -1까지 1씩 감소하면서 반복\n",
    "    print(stack[i])"
   ]
  },
  {
   "cell_type": "code",
   "execution_count": 5,
   "metadata": {},
   "outputs": [
    {
     "data": {
      "text/plain": [
       "2"
      ]
     },
     "execution_count": 5,
     "metadata": {},
     "output_type": "execute_result"
    }
   ],
   "source": [
    "top"
   ]
  },
  {
   "cell_type": "code",
   "execution_count": 6,
   "metadata": {},
   "outputs": [
    {
     "name": "stdout",
     "output_type": "stream",
     "text": [
      "pop -> 꿀물\n",
      "-- 스택 상태 --\n",
      "None\n",
      "None\n",
      "None\n",
      "None\n",
      "None\n",
      "None\n",
      "None\n",
      "None\n",
      "None\n",
      "None\n",
      "None\n",
      "녹차\n",
      "커피\n"
     ]
    }
   ],
   "source": [
    "data = stack[top]\n",
    "stack[top] = None\n",
    "top -= 1\n",
    "print(f'pop -> {data}')\n",
    "\n",
    "print('-- 스택 상태 --')\n",
    "for i in range(len(stack)-1, -1, -1): # 스택의 마지막인덱스부터 -1까지 1씩 감소하면서 반복\n",
    "    print(stack[i])"
   ]
  },
  {
   "cell_type": "code",
   "execution_count": 7,
   "metadata": {},
   "outputs": [
    {
     "name": "stdout",
     "output_type": "stream",
     "text": [
      "pop -> 녹차\n",
      "-- 스택 상태 --\n",
      "None\n",
      "None\n",
      "None\n",
      "None\n",
      "None\n",
      "None\n",
      "None\n",
      "None\n",
      "None\n",
      "None\n",
      "None\n",
      "None\n",
      "커피\n"
     ]
    }
   ],
   "source": [
    "data = stack[top]\n",
    "stack[top] = None\n",
    "top -= 1\n",
    "print(f'pop -> {data}')\n",
    "\n",
    "print('-- 스택 상태 --')\n",
    "for i in range(len(stack)-1, -1, -1): # 스택의 마지막인덱스부터 -1까지 1씩 감소하면서 반복\n",
    "    print(stack[i])"
   ]
  },
  {
   "cell_type": "code",
   "execution_count": 8,
   "metadata": {},
   "outputs": [
    {
     "name": "stdout",
     "output_type": "stream",
     "text": [
      "pop -> 커피\n",
      "-- 스택 상태 --\n",
      "None\n",
      "None\n",
      "None\n",
      "None\n",
      "None\n",
      "None\n",
      "None\n",
      "None\n",
      "None\n",
      "None\n",
      "None\n",
      "None\n",
      "None\n"
     ]
    }
   ],
   "source": [
    "data = stack[top]\n",
    "stack[top] = None\n",
    "top -= 1\n",
    "print(f'pop -> {data}')\n",
    "\n",
    "print('-- 스택 상태 --')\n",
    "for i in range(len(stack)-1, -1, -1): # 스택의 마지막인덱스부터 -1까지 1씩 감소하면서 반복\n",
    "    print(stack[i])"
   ]
  },
  {
   "cell_type": "code",
   "execution_count": 9,
   "metadata": {},
   "outputs": [
    {
     "name": "stdout",
     "output_type": "stream",
     "text": [
      "더이상 데이터가 없습니다.\n"
     ]
    }
   ],
   "source": [
    "if top == -1:\n",
    "    print('더이상 데이터가 없습니다.')\n",
    "else:\n",
    "    pass"
   ]
  },
  {
   "cell_type": "code",
   "execution_count": 10,
   "metadata": {},
   "outputs": [],
   "source": [
    "stack[top] # underflow"
   ]
  }
 ],
 "metadata": {
  "kernelspec": {
   "display_name": "Python 3",
   "language": "python",
   "name": "python3"
  },
  "language_info": {
   "codemirror_mode": {
    "name": "ipython",
    "version": 3
   },
   "file_extension": ".py",
   "mimetype": "text/x-python",
   "name": "python",
   "nbconvert_exporter": "python",
   "pygments_lexer": "ipython3",
   "version": "3.10.4"
  },
  "orig_nbformat": 4,
  "vscode": {
   "interpreter": {
    "hash": "df95319d8ce4e1d89f5365ae10992bc1f65da593082b1d264e8f529830ec2f02"
   }
  }
 },
 "nbformat": 4,
 "nbformat_minor": 2
}

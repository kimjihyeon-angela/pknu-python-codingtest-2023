{
 "cells": [
  {
   "attachments": {},
   "cell_type": "markdown",
   "metadata": {},
   "source": [
    "# 코딩테스트중 실수 네가지\n",
    "\n",
    "## 결함있는 코드"
   ]
  },
  {
   "cell_type": "code",
   "execution_count": 2,
   "metadata": {},
   "outputs": [
    {
     "ename": "ValueError",
     "evalue": "not enough values to unpack (expected 2, got 1)",
     "output_type": "error",
     "traceback": [
      "\u001b[1;31m---------------------------------------------------------------------------\u001b[0m",
      "\u001b[1;31mValueError\u001b[0m                                Traceback (most recent call last)",
      "Cell \u001b[1;32mIn[2], line 14\u001b[0m\n\u001b[0;32m     12\u001b[0m \u001b[39mfor\u001b[39;00m t \u001b[39min\u001b[39;00m \u001b[39mrange\u001b[39m(\u001b[39m1\u001b[39m, testcase\u001b[39m+\u001b[39m\u001b[39m1\u001b[39m):\n\u001b[0;32m     13\u001b[0m     answer \u001b[39m=\u001b[39m \u001b[39m0\u001b[39m \u001b[39m# 1. 초기화 문제 해결\u001b[39;00m\n\u001b[1;32m---> 14\u001b[0m     start, end \u001b[39m=\u001b[39m \u001b[39mmap\u001b[39m(\u001b[39mint\u001b[39m, \u001b[39minput\u001b[39m()\u001b[39m.\u001b[39msplit())\n\u001b[0;32m     16\u001b[0m     \u001b[39mfor\u001b[39;00m i \u001b[39min\u001b[39;00m \u001b[39mrange\u001b[39m(start, end\u001b[39m+\u001b[39m\u001b[39m1\u001b[39m):\n\u001b[0;32m     17\u001b[0m         answer \u001b[39m=\u001b[39m answer \u001b[39m+\u001b[39m A[i]\n",
      "\u001b[1;31mValueError\u001b[0m: not enough values to unpack (expected 2, got 1)"
     ]
    }
   ],
   "source": [
    "# 배열의 주어진 범위 합을 2로 나눈 몫\n",
    "import random\n",
    "\n",
    "testcase = int(input())  # 횟수\n",
    "max_num = 100001\n",
    "answer = 0\n",
    "A = [0] * max_num # 10만개 리스트\n",
    "\n",
    "for i in range(0, max_num): # 2. 10001은 0개수를 잘못\n",
    "    A[i] = random.randrange(1, 101)\n",
    "\n",
    "for t in range(1, testcase+1):\n",
    "    answer = 0 # 1. 초기화 문제 해결\n",
    "    start, end = map(int, input().split())\n",
    "\n",
    "    for i in range(start, end+1):\n",
    "        answer = answer + A[i]\n",
    "\n",
    "    # 4. 결과값이 정수로 나올려면 / 대신 // 로 변경    \n",
    "    print(f'{t} = {answer//2}') # 3. testcase -> t로 변경"
   ]
  },
  {
   "cell_type": "markdown",
   "metadata": {},
   "source": [
    "## 예외 1\n",
    "\n",
    "answer 초기화를 안함\n",
    "\n",
    "## 예외 2\n",
    "\n",
    "배열 범위를 잘못입력\n",
    "\n",
    "## 예외 3\n",
    "\n",
    "변수를 잘못 사용 -> 결과가 다르게 나옴\n",
    "\n",
    "## 예외 4\n",
    "\n",
    "형변환 때문에 실수로 나온 것 (나누기 연산자)"
   ]
  }
 ],
 "metadata": {
  "kernelspec": {
   "display_name": "Python 3",
   "language": "python",
   "name": "python3"
  },
  "language_info": {
   "codemirror_mode": {
    "name": "ipython",
    "version": 3
   },
   "file_extension": ".py",
   "mimetype": "text/x-python",
   "name": "python",
   "nbconvert_exporter": "python",
   "pygments_lexer": "ipython3",
   "version": "3.10.4"
  },
  "orig_nbformat": 4,
  "vscode": {
   "interpreter": {
    "hash": "df95319d8ce4e1d89f5365ae10992bc1f65da593082b1d264e8f529830ec2f02"
   }
  }
 },
 "nbformat": 4,
 "nbformat_minor": 2
}

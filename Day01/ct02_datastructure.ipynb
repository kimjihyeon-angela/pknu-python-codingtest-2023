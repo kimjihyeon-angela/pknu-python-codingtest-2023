{
 "cells": [
  {
   "attachments": {},
   "cell_type": "markdown",
   "metadata": {},
   "source": [
    "## 자료구조\n",
    "\n",
    "### 숫자의 합 - 백준 11720"
   ]
  },
  {
   "cell_type": "code",
   "execution_count": null,
   "metadata": {},
   "outputs": [],
   "source": [
    "# input 문자열 파라미터를 넣으면 틀린문제로 간주!\n",
    "n = int(input())\n",
    "numbers = list(input())\n",
    "mysum = 0\n",
    "\n",
    "for i in numbers:\n",
    "    mysum += int(i)\n",
    "\n",
    "print(mysum)"
   ]
  },
  {
   "attachments": {},
   "cell_type": "markdown",
   "metadata": {},
   "source": [
    "#### 변경 후"
   ]
  },
  {
   "cell_type": "code",
   "execution_count": null,
   "metadata": {},
   "outputs": [],
   "source": [
    "n = int(input())\n",
    "numbers = list(map(int, input()))\n",
    "mysum = 0\n",
    "\n",
    "for i in range(n):\n",
    "    mysum += numbers[i]\n",
    "\n",
    "print(mysum)"
   ]
  },
  {
   "attachments": {},
   "cell_type": "markdown",
   "metadata": {},
   "source": [
    "### 평균 - 백준온라인 1546"
   ]
  },
  {
   "cell_type": "code",
   "execution_count": null,
   "metadata": {},
   "outputs": [],
   "source": [
    "n = int(input())   # 과목수\n",
    "mytest = list(map(int, input().split())) # 점수 다 받는거\n",
    "max_point = max(mytest) # 성적 중 최대점수\n",
    "mysum = 0\n",
    "\n",
    "for i in mytest:\n",
    "    mysum += i\n",
    "\n",
    "print(mysum * 100 / max_point / n) # 평균 구하기"
   ]
  },
  {
   "attachments": {},
   "cell_type": "markdown",
   "metadata": {},
   "source": [
    "### 구간 합 구하기 4 - 백준 11659"
   ]
  },
  {
   "cell_type": "code",
   "execution_count": null,
   "metadata": {},
   "outputs": [],
   "source": [
    "# 입력속도를 개선! 단, 주피터노트북에서는 실행불가\n",
    "import sys\n",
    "input = sys.stdin.readline\n",
    "\n",
    "N, M = tuple(map(int, input().split()))\n",
    "numbers = list(map(int, input().split()))\n",
    "sums = [0] # 핵심!\n",
    "temp = 0\n",
    "\n",
    "for i in numbers: \n",
    "    temp = temp + i # temp 5 9 12 14 15\n",
    "    sums.append(temp)\n",
    "    # [0, 5, 9, 12, 14, 15]\n",
    "\n",
    "for i in range(M):\n",
    "    x, y = tuple(map(int, input().split()))    \n",
    "    print(sums[y] - sums[x - 1])"
   ]
  }
 ],
 "metadata": {
  "language_info": {
   "name": "python"
  },
  "orig_nbformat": 4
 },
 "nbformat": 4,
 "nbformat_minor": 2
}

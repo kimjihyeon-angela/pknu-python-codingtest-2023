{
 "cells": [
  {
   "attachments": {},
   "cell_type": "markdown",
   "metadata": {},
   "source": [
    "###  프로그래머스 Lev1. 카드뭉치"
   ]
  },
  {
   "cell_type": "code",
   "execution_count": 2,
   "metadata": {},
   "outputs": [
    {
     "name": "stdout",
     "output_type": "stream",
     "text": [
      "Yes\n",
      "No\n"
     ]
    }
   ],
   "source": [
    "def solution(cards1, cards2, goal):\n",
    "    answer = 'Yes'\n",
    "    index1, index2 = 0, 0\n",
    "\n",
    "    for word in goal:\n",
    "        # ['i', 'want', 'to', 'drink', 'water']와 같은 단어가 card1 안에 있다.\n",
    "        if index1 < len(cards1) and word == cards1[index1]:\n",
    "            index1 += 1\n",
    "        elif index2 < len(cards2) and word == cards2[index2]:\n",
    "            index2 += 1\n",
    "        else:\n",
    "            answer = 'No'\n",
    "            break\n",
    "\n",
    "    return answer\n",
    "\n",
    "cards1 = ['i', 'drink', 'water']\n",
    "cards2 = ['want', 'to']\n",
    "goal = ['i', 'want', 'to', 'drink', 'water']\n",
    "\n",
    "print(solution(cards1, cards2, goal))  # return Yes\n",
    "\n",
    "card1 = ['i', 'water', 'drink']\n",
    "cards2 = ['want', 'to']\n",
    "goal = ['i','want','to','water','drink']\n",
    "\n",
    "print(solution(cards1, cards2, goal))  # return No"
   ]
  },
  {
   "attachments": {},
   "cell_type": "markdown",
   "metadata": {},
   "source": [
    "### 프로그래머스 Lev1. 체육복"
   ]
  },
  {
   "cell_type": "code",
   "execution_count": 1,
   "metadata": {},
   "outputs": [
    {
     "name": "stdout",
     "output_type": "stream",
     "text": [
      "5\n",
      "4\n",
      "2\n"
     ]
    }
   ],
   "source": [
    "def solution(n, lost, reserve):\n",
    "    answer = 0\n",
    "    reserved = set(reserve) - set(lost) # 여벌 옷 가져온 학생 - 체육복 없는 학생\n",
    "    losted = set(lost) - set(reserve) # 체육복 없는 학생 - 여벌 옷 가져온 학생\n",
    "\n",
    "    for i in reserved:\n",
    "        if i - 1 in losted:\n",
    "            losted.remove(i-1) # 왼쪽 학생에게 옷을 빌려줘\n",
    "        elif i + 1 in losted:\n",
    "            losted.remove(i+1) # 오른쪽 학생에게 옷을 빌려줘        \n",
    "\n",
    "    answer = n - len(losted)   # 전체 학생 수 - 체육복이 없는 남은 학생수 = 수업을 들을수 있는 학생 수\n",
    "\n",
    "    return answer\n",
    "\n",
    "n = 5\n",
    "lost = [2, 4]\n",
    "reserve = [1,3,5]\n",
    "print(solution(n, lost, reserve))  # return 5\n",
    "\n",
    "n = 5\n",
    "lost = [2, 4]\n",
    "reserve = [3]\n",
    "print(solution(n, lost, reserve)) # return 4\n",
    "\n",
    "n = 3\n",
    "lost = [3]\n",
    "reserve = [1]\n",
    "print(solution(n, lost, reserve)) # return 2"
   ]
  }
 ],
 "metadata": {
  "kernelspec": {
   "display_name": "Python 3",
   "language": "python",
   "name": "python3"
  },
  "language_info": {
   "codemirror_mode": {
    "name": "ipython",
    "version": 3
   },
   "file_extension": ".py",
   "mimetype": "text/x-python",
   "name": "python",
   "nbconvert_exporter": "python",
   "pygments_lexer": "ipython3",
   "version": "3.11.1"
  },
  "orig_nbformat": 4,
  "vscode": {
   "interpreter": {
    "hash": "a3d8f53f1429d27b792a3789224562ddd32c1395c9a9cfbb17b3c19c3b9a493d"
   }
  }
 },
 "nbformat": 4,
 "nbformat_minor": 2
}
